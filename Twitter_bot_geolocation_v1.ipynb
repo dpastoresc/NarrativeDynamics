{
 "cells": [
  {
   "cell_type": "code",
   "execution_count": 4,
   "metadata": {},
   "outputs": [],
   "source": [
    "import tweepy\n",
    "import json\n",
    "import csv"
   ]
  },
  {
   "cell_type": "code",
   "execution_count": 5,
   "metadata": {},
   "outputs": [],
   "source": [
    "#Twitter API credentials\n",
    "consumer_key = 'pe7gsS8WNkANobhPvKU5q9PPv'\n",
    "consumer_secret = 'EF8F0wezQz8HPBRp17DMXTEBrxTXJLBs1mzPnzjLLDlYsHql7D'\n",
    "access_token = '468248438-aR7mCZ40MKTFq2TNIOGN0IWEegXUBGKDpN3QtDyT'\n",
    "access_token_secret = 'K5dXjiphLnk17QfWTxigJHOJjgM3005T3c2OZj2X79FA8'"
   ]
  },
  {
   "cell_type": "code",
   "execution_count": 8,
   "metadata": {},
   "outputs": [
    {
     "name": "stdout",
     "output_type": "stream",
     "text": [
      "Starting\n"
     ]
    }
   ],
   "source": [
    "#boundingbox ciudad de Madrid obtenido de https://boundingbox.klokantech.com/\n",
    "madrid = [-3.7475842804,40.3721683069,-3.6409114868,40.4886258195] \n",
    "\n",
    "#para escribir sobre un txt (tomar decision si csv o database)\n",
    "\n",
    "class MyStreamListener(tweepy.StreamListener):\n",
    "\n",
    "\n",
    "    def on_data(self,data):\n",
    "        # Twitter returns data in JSON format - we need to decode it first\n",
    "        try:\n",
    "            decoded = json.loads(data)\n",
    "            \n",
    "        except Exception as e:\n",
    "            print (\"Error on_data: %s\" % str(e)) #we don't want the listener to stop\n",
    "            return True\n",
    "        print(decoded)\n",
    "        \n",
    "        #Si es localizacion exacta\n",
    "        if decoded.get('geo') is not None:\n",
    "            coord = decoded.get('geo').get('coordinates')\n",
    "        else:\n",
    "            coord = 'No found'\n",
    "        \n",
    "        \n",
    "        user_name = '@' + decoded.get('user').get('screen_name') #nombre cuenta @itdUPM \n",
    "        user_id=decoded.get('user').get('id') #id de la cuenta (int)\n",
    "        \n",
    "        created_at = decoded.get('created_at') #Fecha\n",
    "        text = decoded['text'].replace('\\n',' ') #Contenido tweet\n",
    "        tweet_id = decoded['id'] #tweet id (int64)\n",
    "        source = decoded['source'] #string source (web client, android, iphone) interesante???\n",
    "        \n",
    "        reply_count = decoded['reply_count'] #Number of times this Tweet has been replied to\n",
    "        retweet_count = decoded['retweet_count'] #Number of times this Tweet has been retweeted\n",
    "        favorite_count = decoded['favorite_count'] #how many times this Tweet has been liked by Twitter users.\n",
    "        \n",
    "        #in_reply_to_status_id  Si es una respuesta id del tweet al que responde\n",
    "        #in_reply_to_user_id    Si es una respuesta user_id al que responde\n",
    "        #in_reply_to_screen_name Si es una respuesta screen_name al que responde\n",
    "        \n",
    "        tweet = ['%s|%s|%s|%s|%s|%s|%s|%s|%s|%s|%s|%s\\n' % (tweet_id,user_name,user_id,created_at,text,source,\n",
    "                                      reply_count,retweet_count,favorite_count,\n",
    "                                      place_type,place_name,coord )]\n",
    "        \n",
    "        # Writing tweets data\n",
    "        with open('OutputStreamingGeoLocated.csv', 'a') as f:\n",
    "            writer = csv.writer(f)\n",
    "            writer.writerow(tweet)\n",
    "             \n",
    "        print(tweet)\n",
    "        \n",
    "        \n",
    "        return True\n",
    "        \n",
    "    def on_error(self, status_code):\n",
    "        if status_code == 420:\n",
    "            #returning False in on_error disconnects the stream\n",
    "            return False\n",
    "\n",
    "    # returning non-False reconnects the stream, with backoff.\n",
    "\n",
    "\n",
    "if __name__ == '__main__':\n",
    "    print ('Starting')\n",
    "    #authorize twitter, initialize tweepy        \n",
    "    auth = tweepy.OAuthHandler(consumer_key, consumer_secret)\n",
    "    auth.set_access_token(access_token, access_token_secret)\n",
    "    api = tweepy.API(auth, wait_on_rate_limit=True)\n",
    "    \n",
    "    #create the api and the stream object\n",
    "    myStreamListener = MyStreamListener()\n",
    "    myStream = tweepy.Stream(auth = api.auth, listener=myStreamListener)\n",
    "    #Filter the stream by keywords\n",
    "    myStream.filter(locations = madrid)\n",
    "\n",
    "with open('OutputStreamingGeoLocated.csv', 'w') as f:\n",
    "    writer = csv.writer(f)\n",
    "    writer.writerow(['tweet_id','user_name','user_id','created_at','text','source',\n",
    "                                      'reply_count','retweet_count','favorite_count',\n",
    "                                      'place_type','place_name','coord'])"
   ]
  },
  {
   "cell_type": "code",
   "execution_count": null,
   "metadata": {},
   "outputs": [],
   "source": []
  },
  {
   "cell_type": "code",
   "execution_count": null,
   "metadata": {},
   "outputs": [],
   "source": []
  }
 ],
 "metadata": {
  "kernelspec": {
   "display_name": "Python 3",
   "language": "python",
   "name": "python3"
  },
  "language_info": {
   "codemirror_mode": {
    "name": "ipython",
    "version": 3
   },
   "file_extension": ".py",
   "mimetype": "text/x-python",
   "name": "python",
   "nbconvert_exporter": "python",
   "pygments_lexer": "ipython3",
   "version": "3.6.9"
  }
 },
 "nbformat": 4,
 "nbformat_minor": 2
}
