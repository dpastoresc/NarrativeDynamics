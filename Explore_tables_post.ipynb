{
 "cells": [
  {
   "cell_type": "code",
   "execution_count": 4,
   "metadata": {},
   "outputs": [
    {
     "name": "stderr",
     "output_type": "stream",
     "text": [
      "[nltk_data] Downloading package punkt to\n",
      "[nltk_data]     /home/davidpastor/nltk_data...\n",
      "[nltk_data]   Package punkt is already up-to-date!\n",
      "[nltk_data] Downloading package stopwords to\n",
      "[nltk_data]     /home/davidpastor/nltk_data...\n",
      "[nltk_data]   Package stopwords is already up-to-date!\n"
     ]
    }
   ],
   "source": [
    "\n",
    "import pandas as pd\n",
    "import numpy as np\n",
    "\n",
    "\n",
    "import mysql.connector\n",
    "from sqlalchemy import create_engine\n",
    "\n",
    "import nltk\n",
    "nltk.download('punkt')\n",
    "nltk.download('stopwords')\n",
    "\n",
    "import re\n",
    "from nltk.corpus import stopwords\n",
    "import string\n",
    "from bs4 import BeautifulSoup\n",
    "import matplotlib.pyplot as plt\n",
    "from nltk.stem import SnowballStemmer\n",
    "\n",
    "import pickle\n",
    "import itertools\n",
    "\n",
    "import networkx as nx\n",
    "import time\n",
    "from datetime import datetime, timedelta, date\n",
    "from timeit import default_timer as timer\n",
    "\n",
    "from sys import argv"
   ]
  },
  {
   "cell_type": "code",
   "execution_count": 2,
   "metadata": {},
   "outputs": [],
   "source": [
    "db_name_table = 'PostsMadCar'#str(argv[1])\n",
    "m_user='david'\n",
    "m_pass='password'\n",
    "m_database='twitterdb'\n",
    "datapath='/home/davidpastor/Narrativas/MadCar/'\n",
    "address='192.168.0.154'\n",
    "address='127.0.0.1:3306'\n",
    "encoding = 'utf-8'\n",
    "\n",
    "#Lista con las palabras clave definidas    \n",
    "keywords_list = ['descarbonización','descarbonizacion','clima','climático','climatico','combustible', 'CO2', 'climática', 'climatica', 'transición energética', 'renovable', 'energía', 'energia', 'energético', 'energética', 'energetico', 'energetica']\n"
   ]
  },
  {
   "cell_type": "code",
   "execution_count": 5,
   "metadata": {},
   "outputs": [],
   "source": [
    "path_dfs = ''\n",
    "dfProcessed = pd.read_pickle(datapath+path_dfs+ db_name_table+'Processed2.pkl') \n"
   ]
  },
  {
   "cell_type": "code",
   "execution_count": 6,
   "metadata": {
    "scrolled": true
   },
   "outputs": [
    {
     "name": "stdout",
     "output_type": "stream",
     "text": [
      "Index(['tweet_id', 'tokens_text'], dtype='object')\n"
     ]
    }
   ],
   "source": [
    "print(dfProcessed.columns)"
   ]
  },
  {
   "cell_type": "code",
   "execution_count": 8,
   "metadata": {},
   "outputs": [
    {
     "name": "stdout",
     "output_type": "stream",
     "text": [
      "1589583\n"
     ]
    }
   ],
   "source": [
    "dfProcessed.head()\n",
    "print(len(dfProcessed))"
   ]
  },
  {
   "cell_type": "code",
   "execution_count": 2,
   "metadata": {},
   "outputs": [],
   "source": [
    "\n",
    "db_name_table = 'PostsCorMad'#str(argv[1])\n",
    "m_user='david'\n",
    "m_pass='password'\n",
    "m_database='TwitterDisaster'\n",
    "datapath='/home/davidpastor/Narrativas/CorMad/'\n",
    "address='192.168.0.154'\n",
    "address='127.0.0.1:3306'\n",
    "encoding = 'utf-8'\n",
    "\n",
    "engine = create_engine('mysql+mysqlconnector://'+m_user+\":\"+m_pass+'@'+address+'/'+m_database,pool_recycle=3600)\n",
    "\n",
    "\n",
    "\n",
    "#Reading database table to a dataframe\n",
    "query = 'SELECT COUNT(*) FROM '+ db_name_table\n",
    "data = pd.read_sql(query, engine)"
   ]
  },
  {
   "cell_type": "code",
   "execution_count": 13,
   "metadata": {},
   "outputs": [
    {
     "name": "stdout",
     "output_type": "stream",
     "text": [
      "45496979\n"
     ]
    }
   ],
   "source": [
    "print(data[\"COUNT(*)\"][0]data[\"COUNT(*)\"][0]))\n"
   ]
  },
  {
   "cell_type": "code",
   "execution_count": 5,
   "metadata": {},
   "outputs": [
    {
     "name": "stderr",
     "output_type": "stream",
     "text": [
      "/usr/local/lib/python3.6/dist-packages/scipy/stats/_distn_infrastructure.py:1702: RuntimeWarning: divide by zero encountered in log\n",
      "  return log(self._pdf(x, *args))\n",
      "/usr/local/lib/python3.6/dist-packages/scipy/stats/_distn_infrastructure.py:1702: RuntimeWarning: divide by zero encountered in log\n",
      "  return log(self._pdf(x, *args))\n"
     ]
    },
    {
     "data": {
      "text/plain": [
       "<matplotlib.axes._subplots.AxesSubplot at 0x7facebdffdd8>"
      ]
     },
     "execution_count": 5,
     "metadata": {},
     "output_type": "execute_result"
    },
    {
     "data": {
      "image/png": "[encoded data removed]",
      "text/plain": [
       "<Figure size 432x288 with 1 Axes>"
      ]
     },
     "metadata": {},
     "output_type": "display_data"
    }
   ],
   "source": [
    "import seaborn as sns\n",
    "from scipy import stats\n",
    "\n",
    "db_name_table = 'PostsMadCar'#str(argv[1])\n",
    "datapath='/home/davidpastor/Narrativas/MadCar/'\n",
    "keywords_list = ['descarbonización','descarbonizacion','clima','climático','climatico','combustible', 'CO2', 'climática', 'climatica', 'transición energética', 'renovable', 'energía', 'energia', 'energético', 'energética', 'energetico', 'energetica']\n",
    "\n",
    "path_dicts = 'Tweets/'\n",
    "tagfile='3'\n",
    "with open(datapath+path_dicts+'distFreq'+db_name_table+tagfile+'.pkl', 'rb') as f:\n",
    "   freq = pickle.load(f)\n",
    "\n",
    "f=[]\n",
    "fin=[]\n",
    "fout=[]\n",
    "for w in freq:\n",
    "    f.append(freq[w])\n",
    "    if w in keywords_list:\n",
    "        fin.append(freq[w])\n",
    "    else:\n",
    "        fout.append(freq[w])\n",
    "\n",
    "sns.set_style('darkgrid')   \n",
    "sns.distplot(fin, fit=stats.laplace, kde=False)\n",
    "\n",
    "\n",
    "sns.set_style('darkgrid')\n",
    "sns.distplot(fout, fit=stats.laplace, kde=False)\n",
    "\n",
    "sns.set_style('darkgrid')\n",
    "sns.distplot(f, fit=stats.laplace, kde=False)"
   ]
  },
  {
   "cell_type": "code",
   "execution_count": 40,
   "metadata": {},
   "outputs": [
    {
     "name": "stdout",
     "output_type": "stream",
     "text": [
      "643375\n",
      "1.0\n",
      "90.0\n"
     ]
    }
   ],
   "source": [
    "print(np.max(f))\n",
    "print(np.percentile(f,10))\n",
    "print(np.percentile(f,95))"
   ]
  },
  {
   "cell_type": "code",
   "execution_count": 32,
   "metadata": {},
   "outputs": [
    {
     "name": "stdout",
     "output_type": "stream",
     "text": [
      "[]\n"
     ]
    }
   ],
   "source": [
    "neg_num=[i for i in fin if i<0]\n",
    "print(neg_num)"
   ]
  },
  {
   "cell_type": "code",
   "execution_count": 27,
   "metadata": {},
   "outputs": [
    {
     "data": {
      "text/plain": [
       "<matplotlib.axes._subplots.AxesSubplot at 0x7f5bae9c2710>"
      ]
     },
     "execution_count": 27,
     "metadata": {},
     "output_type": "execute_result"
    },
    {
     "data": {
      "image/png": "[encoded data removed]",
      "text/plain": [
       "<matplotlib.figure.Figure at 0x7f5ba8c5e470>"
      ]
     },
     "metadata": {},
     "output_type": "display_data"
    }
   ],
   "source": [
    "sns.set_style('darkgrid')   \n",
    "sns.distplot(fin)"
   ]
  },
  {
   "cell_type": "code",
   "execution_count": 28,
   "metadata": {},
   "outputs": [
    {
     "data": {
      "text/plain": [
       "<matplotlib.axes._subplots.AxesSubplot at 0x7f5baae9f978>"
      ]
     },
     "execution_count": 28,
     "metadata": {},
     "output_type": "execute_result"
    },
    {
     "data": {
      "image/png": "[encoded data removed]",
      "text/plain": [
       "<matplotlib.figure.Figure at 0x7f5baaeb4ba8>"
      ]
     },
     "metadata": {},
     "output_type": "display_data"
    }
   ],
   "source": [
    "sns.set_style('darkgrid')   \n",
    "sns.distplot(fout)"
   ]
  },
  {
   "cell_type": "code",
   "execution_count": 34,
   "metadata": {},
   "outputs": [
    {
     "data": {
      "text/plain": [
       "<matplotlib.axes._subplots.AxesSubplot at 0x7f5bab6b0978>"
      ]
     },
     "execution_count": 34,
     "metadata": {},
     "output_type": "execute_result"
    },
    {
     "data": {
      "image/png": "[encoded data removed]",
      "text/plain": [
       "<matplotlib.figure.Figure at 0x7f5baa9d60f0>"
      ]
     },
     "metadata": {},
     "output_type": "display_data"
    }
   ],
   "source": [
    "fn=[i for i in fout if i<1000]\n",
    "sns.set_style('darkgrid')   \n",
    "sns.distplot(fn)"
   ]
  },
  {
   "cell_type": "code",
   "execution_count": 29,
   "metadata": {},
   "outputs": [
    {
     "data": {
      "text/plain": [
       "<matplotlib.axes._subplots.AxesSubplot at 0x7f5baf0f89e8>"
      ]
     },
     "execution_count": 29,
     "metadata": {},
     "output_type": "execute_result"
    },
    {
     "data": {
      "image/png": "[encoded data removed]",
      "text/plain": [
       "<matplotlib.figure.Figure at 0x7f5baaeb8748>"
      ]
     },
     "metadata": {},
     "output_type": "display_data"
    }
   ],
   "source": [
    "sns.set_style('darkgrid')   \n",
    "sns.distplot(f)"
   ]
  },
  {
   "cell_type": "code",
   "execution_count": 13,
   "metadata": {},
   "outputs": [
    {
     "name": "stdout",
     "output_type": "stream",
     "text": [
      "{}\n",
      "{}\n",
      "1\n",
      "{}\n",
      "{'p': 10}\n"
     ]
    }
   ],
   "source": [
    "import networkx as nx\n",
    "G=nx.Graph()\n",
    "G.add_node(1)\n",
    "print(G[1])\n",
    "G.nodes[1]['fo']=1\n",
    "\n",
    "print(G[1])\n",
    "print(G.nodes.data()[1]['fo'])\n",
    "\n",
    "G.add_node(2, p=10)\n",
    "print(G[2])\n",
    "print(G.nodes.data()[2])"
   ]
  },
  {
   "cell_type": "code",
   "execution_count": 17,
   "metadata": {},
   "outputs": [
    {
     "name": "stdout",
     "output_type": "stream",
     "text": [
      "177\n",
      "177\n"
     ]
    }
   ],
   "source": [
    "import pickle\n",
    "\n",
    "db_name_table = 'PostsMadCar'#str(argv[1])\n",
    "#db_name_table = 'PostsCorMad'#str(argv[1])\n",
    "db2='UsersMadCar'#str(argv[1])\n",
    "#db2='UsersCorMad'#str(argv[1])\n",
    "datapath='/home/davidpastor/Narrativas/MadCar/'\n",
    "#datapath='/home/davidpastor/Narrativas/CorMad/'\n",
    "tag=''\n",
    "\n",
    "\n",
    "path_graphs = '' \n",
    "with open(datapath+path_graphs+db_name_table+'NetPeople'+tag+'_f.cnf', 'rb') as handle:\n",
    "    Gu=pickle.load(handle)   \n",
    "\n",
    "with open(datapath+path_graphs+db_name_table+'NetDPeople'+tag+'_f.cnf', 'rb') as handle:\n",
    "    G=pickle.load(handle) \n",
    "\n",
    "with open(datapath+path_graphs+db2+'People'+tag+'.cnf', 'rb') as handle:\n",
    "    People=pickle.load(handle)\n",
    "\n",
    "nu=list(Gu.nodes())\n",
    "vu=[]\n",
    "gudata=Gu.nodes.data()\n",
    "print(gudata[nu[0]]['followers'])\n",
    "\n",
    "n=list(G.nodes())\n",
    "gdata=G.nodes.data()\n",
    "print(gdata[n[0]]['followers'])"
   ]
  },
  {
   "cell_type": "code",
   "execution_count": 18,
   "metadata": {},
   "outputs": [
    {
     "name": "stdout",
     "output_type": "stream",
     "text": [
      "283301\n",
      "252786\n"
     ]
    }
   ],
   "source": [
    "print(len(nu))\n",
    "print(len(n))"
   ]
  },
  {
   "cell_type": "code",
   "execution_count": 3,
   "metadata": {},
   "outputs": [
    {
     "name": "stdout",
     "output_type": "stream",
     "text": [
      "31110\n",
      "668562\n",
      "536427\n"
     ]
    }
   ],
   "source": [
    "import pickle\n",
    "\n",
    "db_name_table = 'PostsMadCar'#str(argv[1])\n",
    "#db_name_table = 'PostsCorMad'#str(argv[1])\n",
    "db2='UsersMadCar'#str(argv[1])\n",
    "#db2='UsersCorMad'#str(argv[1])\n",
    "datapath='/home/davidpastor/Narrativas/MadCar/'\n",
    "#datapath='/home/davidpastor/Narrativas/CorMad/'\n",
    "tag='3'\n",
    "tagfile='3'\n",
    "\n",
    "path_dicts = 'Tweets/'\n",
    "path_graphs = 'Tweets/' \n",
    "with open(datapath+path_graphs+db_name_table+'Net'+tag+'_f.cnf', 'rb') as handle:\n",
    "    Gu=pickle.load(handle)   \n",
    "\n",
    "with open(datapath+path_dicts+'distFreq'+db_name_table+tagfile+'.pkl', 'rb') as f:\n",
    "    freq = pickle.load(f)\n",
    "\n",
    "nu=list(Gu.nodes())\n",
    "print(len(nu))\n",
    "print(len(freq))\n",
    "gudata=Gu.nodes.data()\n",
    "print(gudata[nu[0]]['freq'])\n",
    "\n"
   ]
  },
  {
   "cell_type": "code",
   "execution_count": 6,
   "metadata": {},
   "outputs": [
    {
     "name": "stdout",
     "output_type": "stream",
     "text": [
      "31110\n"
     ]
    }
   ],
   "source": [
    "with open(datapath+path_graphs+db_name_table+'Net'+tag+'_f_c.cnf', 'rb') as handle:\n",
    "    Gu=pickle.load(handle)\n",
    "nu=list(Gu.nodes())\n",
    "print(len(nu))"
   ]
  },
  {
   "cell_type": "code",
   "execution_count": 9,
   "metadata": {},
   "outputs": [
    {
     "name": "stdout",
     "output_type": "stream",
     "text": [
      "283301\n",
      "1851090\n"
     ]
    }
   ],
   "source": [
    "path_graphs = 'People/' \n",
    "tag=''\n",
    "with open(datapath+path_graphs+db_name_table+'NetPeople'+tag+'_f.cnf', 'rb') as handle:\n",
    "    Gu=pickle.load(handle)\n",
    "nu=list(Gu.nodes())\n",
    "print(len(nu))\n",
    "\n",
    "path_graphs = 'People/' \n",
    "tag=''\n",
    "with open(datapath+path_graphs+db_name_table+'NetPeople'+tag+'.cnf', 'rb') as handle:\n",
    "    Gu=pickle.load(handle)\n",
    "nu=list(Gu.nodes())\n",
    "print(len(nu))"
   ]
  },
  {
   "cell_type": "code",
   "execution_count": 10,
   "metadata": {},
   "outputs": [
    {
     "name": "stdout",
     "output_type": "stream",
     "text": [
      "1851089\n"
     ]
    }
   ],
   "source": [
    "path_graphs = 'People/' \n",
    "tag=''\n",
    "with open(datapath+path_graphs+db_name_table+'NetPeople'+tag+'_c.cnf', 'rb') as handle:\n",
    "    Gu=pickle.load(handle)\n",
    "nu=list(Gu.nodes())\n",
    "print(len(nu))"
   ]
  },
  {
   "cell_type": "code",
   "execution_count": 11,
   "metadata": {},
   "outputs": [
    {
     "name": "stdout",
     "output_type": "stream",
     "text": [
      "283142\n"
     ]
    }
   ],
   "source": [
    "path_graphs = 'People/' \n",
    "tag=''\n",
    "with open(datapath+path_graphs+db_name_table+'NetPeople'+tag+'_f_c.cnf', 'rb') as handle:\n",
    "    Gu=pickle.load(handle)\n",
    "nu=list(Gu.nodes())\n",
    "print(len(nu))"
   ]
  },
  {
   "cell_type": "code",
   "execution_count": null,
   "metadata": {},
   "outputs": [],
   "source": []
  }
 ],
 "metadata": {
  "kernelspec": {
   "display_name": "Python 3",
   "language": "python",
   "name": "python3"
  },
  "language_info": {
   "codemirror_mode": {
    "name": "ipython",
    "version": 3
   },
   "file_extension": ".py",
   "mimetype": "text/x-python",
   "name": "python",
   "nbconvert_exporter": "python",
   "pygments_lexer": "ipython3",
   "version": "3.6.9"
  }
 },
 "nbformat": 4,
 "nbformat_minor": 2
}
